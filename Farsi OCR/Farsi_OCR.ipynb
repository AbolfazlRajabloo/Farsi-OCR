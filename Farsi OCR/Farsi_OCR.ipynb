{
 "cells": [
  {
   "cell_type": "markdown",
   "metadata": {},
   "source": [
    "### preparation"
   ]
  },
  {
   "cell_type": "code",
   "execution_count": 1,
   "metadata": {},
   "outputs": [],
   "source": [
    "import cv2\n",
    "from tqdm import tqdm\n",
    "import numpy as np\n",
    "import os\n",
    "from sklearn.model_selection import train_test_split\n",
    "import matplotlib.pyplot as plt\n",
    "\n",
    "import tensorflow as tf\n",
    "from keras.layers import Dense, Flatten, Conv2D, MaxPooling2D, Input\n",
    "from keras.models import Sequential, load_model\n",
    "from keras.callbacks import EarlyStopping\n",
    "from keras.optimizers import Adam"
   ]
  },
  {
   "cell_type": "code",
   "execution_count": 2,
   "metadata": {},
   "outputs": [],
   "source": [
    "base_X_size = 32\n",
    "base_Y_size = 32"
   ]
  },
  {
   "cell_type": "markdown",
   "metadata": {},
   "source": [
    "### Load and show images"
   ]
  },
  {
   "cell_type": "code",
   "execution_count": 3,
   "metadata": {},
   "outputs": [],
   "source": [
    "def load_image(image_path):\n",
    "    img = cv2.imread(image_path, 0)\n",
    "    resized_img = cv2.resize(img, (base_X_size, base_Y_size))\n",
    "    return np.expand_dims(resized_img, axis=2)\n",
    "\n",
    "def show_image(caption, img, show=True, destroy=True, waite_ms=1000):\n",
    "    if not show:\n",
    "        return\n",
    "    cv2.imshow(caption, img)\n",
    "    cv2.waitKey(waite_ms)\n",
    "    if destroy:\n",
    "        cv2.destroyAllWindows()\n"
   ]
  },
  {
   "cell_type": "markdown",
   "metadata": {},
   "source": [
    "### Upload Dataset images"
   ]
  },
  {
   "cell_type": "code",
   "execution_count": 4,
   "metadata": {},
   "outputs": [
    {
     "name": "stderr",
     "output_type": "stream",
     "text": [
      "Uploading: 100%|██████████| 80000/80000 [01:22<00:00, 968.20it/s] \n"
     ]
    }
   ],
   "source": [
    "ds_images = np.empty((0, base_X_size, base_Y_size, 1), dtype=int)\n",
    "ds_temp = np.empty((0, base_X_size, base_Y_size, 1), dtype=int)\n",
    "ds_target = np.empty((0), dtype=int)\n",
    "\n",
    "dataset_dir = os.listdir(\"dataset\")\n",
    "pbar = tqdm(total=80000, desc=\"Uploading\")\n",
    "\n",
    "for file_numbers_dir in dataset_dir:\n",
    "    file_index = 0\n",
    "    file_dirs = os.listdir(\"dataset/\" + file_numbers_dir)\n",
    "    target_number = int(file_numbers_dir)\n",
    "\n",
    "    for image_path in (file_dirs):\n",
    "        file_index += 1\n",
    "        img = load_image(\"dataset/\" + file_numbers_dir + \"/\" + image_path)\n",
    "        ds_target = np.append(ds_target, target_number)\n",
    "        ds_temp = np.append(ds_temp, [img], axis=0)\n",
    "        pbar.update(1)\n",
    "\n",
    "        if file_index % 100 == 0:\n",
    "            ds_images = np.append(ds_images, ds_temp, axis=0)\n",
    "            ds_temp = np.empty((0, base_X_size, base_Y_size, 1), dtype=int)\n",
    "pbar.close()"
   ]
  },
  {
   "cell_type": "code",
   "execution_count": 5,
   "metadata": {},
   "outputs": [
    {
     "name": "stdout",
     "output_type": "stream",
     "text": [
      "ds_images shape:  (80000, 32, 32, 1)\n",
      "ds_target shape:  (80000,)\n"
     ]
    }
   ],
   "source": [
    "print(\"ds_images shape: \", ds_images.shape)\n",
    "print(\"ds_target shape: \", ds_target.shape)"
   ]
  },
  {
   "cell_type": "markdown",
   "metadata": {},
   "source": [
    "### Normalizing images"
   ]
  },
  {
   "cell_type": "code",
   "execution_count": 6,
   "metadata": {},
   "outputs": [],
   "source": [
    "ds_images = ds_images.astype(float) / 255.0"
   ]
  },
  {
   "cell_type": "code",
   "execution_count": 7,
   "metadata": {},
   "outputs": [],
   "source": [
    "show_image(\"test image\", ds_images[33333])"
   ]
  },
  {
   "cell_type": "markdown",
   "metadata": {},
   "source": [
    "### split train and test data"
   ]
  },
  {
   "cell_type": "code",
   "execution_count": 8,
   "metadata": {},
   "outputs": [],
   "source": [
    "train_images, test_images, train_target, test_target = train_test_split(\n",
    "    ds_images, ds_target, test_size=0.25, random_state=42\n",
    ")"
   ]
  },
  {
   "cell_type": "markdown",
   "metadata": {},
   "source": [
    "### Build model"
   ]
  },
  {
   "cell_type": "code",
   "execution_count": 9,
   "metadata": {},
   "outputs": [
    {
     "name": "stdout",
     "output_type": "stream",
     "text": [
      "input shape:  (32, 32, 1)\n",
      "Model: \"sequential\"\n",
      "_________________________________________________________________\n",
      " Layer (type)                Output Shape              Param #   \n",
      "=================================================================\n",
      " conv2d (Conv2D)             (None, 30, 30, 10)        100       \n",
      "                                                                 \n",
      " max_pooling2d (MaxPooling2D  (None, 15, 15, 10)       0         \n",
      " )                                                               \n",
      "                                                                 \n",
      " flatten (Flatten)           (None, 2250)              0         \n",
      "                                                                 \n",
      " dense (Dense)               (None, 32)                72032     \n",
      "                                                                 \n",
      " dense_1 (Dense)             (None, 10)                330       \n",
      "                                                                 \n",
      "=================================================================\n",
      "Total params: 72,462\n",
      "Trainable params: 72,462\n",
      "Non-trainable params: 0\n",
      "_________________________________________________________________\n"
     ]
    }
   ],
   "source": [
    "input_shape = train_images.shape[1:]\n",
    "print(\"input shape: \", input_shape)\n",
    "\n",
    "model = Sequential()\n",
    "model.add(Input(shape=input_shape))\n",
    "model.add(Conv2D(10, (3,3), activation='relu'))\n",
    "model.add(MaxPooling2D())\n",
    "model.add(Flatten())\n",
    "model.add(Dense(32, activation='relu'))\n",
    "model.add(Dense(10, activation='softmax'))\n",
    "\n",
    "\n",
    "optimizer = Adam(learning_rate=0.001)\n",
    "model.compile(\n",
    "        optimizer = optimizer, \n",
    "        loss = tf.keras.losses.SparseCategoricalCrossentropy(from_logits=True), \n",
    "        metrics=[\"accuracy\"])\n",
    "\n",
    "model.summary()"
   ]
  },
  {
   "cell_type": "markdown",
   "metadata": {},
   "source": [
    "Train model"
   ]
  },
  {
   "cell_type": "code",
   "execution_count": null,
   "metadata": {},
   "outputs": [],
   "source": [
    "early_stopping = EarlyStopping(\n",
    "    monitor=\"val_accuracy\", \n",
    "    patience=3\n",
    ")\n",
    "\n",
    "history = model.fit(\n",
    "    train_images, \n",
    "    train_target, \n",
    "    epochs=15, \n",
    "    validation_data=(test_images, test_target), \n",
    "    callbacks=[early_stopping], batch_size=32\n",
    ")"
   ]
  },
  {
   "cell_type": "markdown",
   "metadata": {},
   "source": [
    "### save and evaluate model"
   ]
  },
  {
   "cell_type": "code",
   "execution_count": 28,
   "metadata": {},
   "outputs": [],
   "source": [
    "model.save(\"Farsi_OCR_Model.h5\")"
   ]
  },
  {
   "cell_type": "code",
   "execution_count": 11,
   "metadata": {},
   "outputs": [],
   "source": [
    "model = load_model(\"Farsi_OCR_Model.h5\")"
   ]
  },
  {
   "cell_type": "code",
   "execution_count": 12,
   "metadata": {},
   "outputs": [
    {
     "name": "stdout",
     "output_type": "stream",
     "text": [
      "1875/1875 [==============================] - 4s 2ms/step - loss: 0.0079 - accuracy: 0.9972\n"
     ]
    },
    {
     "data": {
      "text/plain": [
       "[0.007888835854828358, 0.9971666932106018]"
      ]
     },
     "execution_count": 12,
     "metadata": {},
     "output_type": "execute_result"
    }
   ],
   "source": [
    "model.evaluate(train_images, train_target)"
   ]
  },
  {
   "cell_type": "markdown",
   "metadata": {},
   "source": [
    "### Process image numbers"
   ]
  },
  {
   "cell_type": "code",
   "execution_count": 13,
   "metadata": {},
   "outputs": [],
   "source": [
    "def process_image(image, show_process=True):\n",
    "    if image is None:\n",
    "        print(\"Error: could not read image\")\n",
    "\n",
    "    else:\n",
    "        img_b = cv2.bitwise_not(image)\n",
    "        gray_img = cv2.cvtColor(img_b, cv2.COLOR_BGR2GRAY)\n",
    "        blured_img = cv2.blur(gray_img, (5, 5))\n",
    "        _, threshold_img = cv2.threshold(blured_img, 0, 255, cv2.THRESH_BINARY | cv2.THRESH_OTSU)\n",
    "\n",
    "    return threshold_img"
   ]
  },
  {
   "cell_type": "markdown",
   "metadata": {},
   "source": [
    "### detect and recognize numbers"
   ]
  },
  {
   "cell_type": "code",
   "execution_count": 14,
   "metadata": {},
   "outputs": [],
   "source": [
    "def split_and_predict_numbers(thresholded_image, show_process=True):\n",
    "    height, width = thresholded_image.shape\n",
    "    thresh_img_copy = thresholded_image.copy()\n",
    "\n",
    "    numbers = \"\"\n",
    "\n",
    "    for x in range(width):\n",
    "        num_pixel = np.where(thresh_img_copy[:, x] == 255)[0]\n",
    "        if num_pixel.size > 0:\n",
    "            y = num_pixel[0]\n",
    "\n",
    "            # ------ find number ------\n",
    "            retval, flood_filled_region, _, rect = cv2.floodFill(thresh_img_copy.copy(), None, (x, y), 0)\n",
    "\n",
    "            detected_num = thresh_img_copy - flood_filled_region\n",
    "            thresh_img_copy = flood_filled_region\n",
    "            \n",
    "            x1, y1, x2, y2 = rect[0],rect[1], rect[0] + rect[2],rect[1] + rect[3]\n",
    "            image_number = detected_num[y1:y2, x1:x2]\n",
    "\n",
    "            #------ Preparing the photo for prediction -------\n",
    "            resized_img = np.expand_dims(cv2.resize(image_number, (base_X_size, base_Y_size)), axis=2)\n",
    "            resized_img = np.array([resized_img])\n",
    "\n",
    "            # ------ prediction ------\n",
    "            prediction = model.predict(resized_img, verbose=0)[0]\n",
    "            pred_number = tf.math.argmax(prediction).numpy()\n",
    "            numbers += str(pred_number)\n",
    "\n",
    "    return numbers"
   ]
  },
  {
   "cell_type": "markdown",
   "metadata": {},
   "source": [
    "### test on Handwritten numbers"
   ]
  },
  {
   "cell_type": "code",
   "execution_count": 15,
   "metadata": {},
   "outputs": [
    {
     "data": {
      "text/plain": [
       "'Numbers: 09119629874'"
      ]
     },
     "execution_count": 15,
     "metadata": {},
     "output_type": "execute_result"
    }
   ],
   "source": [
    "def Farsi_OCR(image_path):\n",
    "    my_phone = cv2.imread(image_path)\n",
    "    processed_image = process_image(my_phone)\n",
    "    numbers = split_and_predict_numbers(processed_image)\n",
    "    return \"Numbers: \"+numbers\n",
    "\n",
    "Farsi_OCR(\"Numbers 2.png\")"
   ]
  },
  {
   "cell_type": "markdown",
   "metadata": {},
   "source": [
    "### GUI"
   ]
  },
  {
   "cell_type": "code",
   "execution_count": 53,
   "metadata": {},
   "outputs": [],
   "source": [
    "import tkinter as tk\n",
    "from tkinter import filedialog, ttk\n",
    "from PIL import Image, ImageTk\n",
    "\n",
    "def my_farsi_ocr(image_path):\n",
    "    result = Farsi_OCR(image_path)\n",
    "    return result\n",
    "\n",
    "class OCRApp:\n",
    "    def __init__(self, root):\n",
    "        self.root = root\n",
    "        self.root.title(\"Farsi OCR\")\n",
    "        self.root.geometry(\"600x500\")\n",
    "        self.root.configure(bg=\"#2c2f33\")\n",
    "\n",
    "        style = ttk.Style()\n",
    "        style.configure(\"TButton\", font=(\"Segoe UI\", 11, \"bold\"), padding=6)\n",
    "\n",
    "        self.btn = ttk.Button(root, text=\"📂 Select File\", command=self.load_file)\n",
    "        self.btn.pack(pady=14)\n",
    "\n",
    "        # جایی برای نمایش عکس\n",
    "        self.image_label = tk.Label(root, bg=\"#23272a\", fg=\"#99aab5\",\n",
    "                                    text=\"No image selected\")\n",
    "        self.image_label.pack(pady=10)\n",
    "\n",
    "        # نمایش نتیجه OCR\n",
    "        self.result_label = tk.Label(root, text=\"OCR Result will appear here\",\n",
    "                                     fg=\"#ffffff\", bg=\"#2c2f33\", font=(\"Segoe UI\", 11),\n",
    "                                     wraplength=520, justify=\"center\")\n",
    "        self.result_label.pack(pady=12)\n",
    "\n",
    "        self.run_btn = ttk.Button(root, text=\"✅ Yes\", command=self.run_ocr)\n",
    "        self.run_btn.pack(pady=8)\n",
    "\n",
    "        self.image_path = None\n",
    "        self.image_label.image = None\n",
    "\n",
    "    def load_file(self):\n",
    "        path = filedialog.askopenfilename(\n",
    "            filetypes=[(\"Image Files\", \"*.png;*.jpg;*.jpeg;*.bmp;*.tif;*.tiff\")]\n",
    "        )\n",
    "        if not path:\n",
    "            return\n",
    "        try:\n",
    "            img = Image.open(path)\n",
    "            if img.mode in (\"RGBA\", \"P\"):\n",
    "                img = img.convert(\"RGB\")\n",
    "\n",
    "            max_w, max_h = 500, 320\n",
    "            img.thumbnail((max_w, max_h))  \n",
    "\n",
    "            tk_img = ImageTk.PhotoImage(img)\n",
    "            self.image_label.configure(image=tk_img, text=\"\")\n",
    "            self.image_label.image = tk_img\n",
    "            self.image_path = path\n",
    "            self.result_label.config(text=\"Ready to run OCR\")\n",
    "\n",
    "        except Exception as e:\n",
    "            self.result_label.config(text=f\"خطا در بارگذاری تصویر: {e}\")\n",
    "\n",
    "    def run_ocr(self):\n",
    "        if not self.image_path:\n",
    "            self.result_label.config(text=\"⚠️ هیچ عکسی انتخاب نشده!\")\n",
    "            return\n",
    "        self.result_label.config(text=my_farsi_ocr(self.image_path))\n",
    "\n",
    "if __name__ == \"__main__\":\n",
    "    root = tk.Tk()\n",
    "    OCRApp(root)\n",
    "    root.mainloop()\n"
   ]
  }
 ],
 "metadata": {
  "kernelspec": {
   "display_name": "Python 3.8.8 64-bit",
   "language": "python",
   "name": "python3"
  },
  "language_info": {
   "codemirror_mode": {
    "name": "ipython",
    "version": 3
   },
   "file_extension": ".py",
   "mimetype": "text/x-python",
   "name": "python",
   "nbconvert_exporter": "python",
   "pygments_lexer": "ipython3",
   "version": "3.8.8"
  },
  "orig_nbformat": 4,
  "vscode": {
   "interpreter": {
    "hash": "570feb405e2e27c949193ac68f46852414290d515b0ba6e5d90d076ed2284471"
   }
  }
 },
 "nbformat": 4,
 "nbformat_minor": 2
}
